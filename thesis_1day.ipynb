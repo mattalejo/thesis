{
  "cells": [
    {
      "cell_type": "markdown",
      "metadata": {
        "id": "view-in-github",
        "colab_type": "text"
      },
      "source": [
        "<a href=\"https://colab.research.google.com/github/mattalejo/thesis/blob/time2vec/thesis_1day.ipynb\" target=\"_parent\"><img src=\"https://colab.research.google.com/assets/colab-badge.svg\" alt=\"Open In Colab\"/></a>"
      ]
    },
    {
      "cell_type": "code",
      "source": [
        "import sys\n",
        "!git clone --branch time2vec https://github.com/mattalejo/thesis\n",
        "sys.path.append(\"/content/thesis\")"
      ],
      "metadata": {
        "id": "UkZIwHZevKYu",
        "outputId": "cb8b343d-fe58-4f68-c3cf-446ffc338323",
        "colab": {
          "base_uri": "https://localhost:8080/"
        }
      },
      "execution_count": 1,
      "outputs": [
        {
          "output_type": "stream",
          "name": "stdout",
          "text": [
            "Cloning into 'thesis'...\n",
            "remote: Enumerating objects: 949, done.\u001b[K\n",
            "remote: Counting objects: 100% (949/949), done.\u001b[K\n",
            "remote: Compressing objects: 100% (512/512), done.\u001b[K\n",
            "remote: Total 949 (delta 251), reused 829 (delta 187), pack-reused 0\u001b[K\n",
            "Receiving objects: 100% (949/949), 31.80 MiB | 37.00 MiB/s, done.\n",
            "Resolving deltas: 100% (251/251), done.\n"
          ]
        }
      ]
    },
    {
      "cell_type": "markdown",
      "metadata": {
        "id": "B6OVBygNG_4s"
      },
      "source": [
        "# Import libraries"
      ]
    },
    {
      "cell_type": "code",
      "execution_count": 2,
      "metadata": {
        "id": "brLVmgNT0izE",
        "tags": [],
        "outputId": "32305646-f2c9-4700-bb7c-9f414072e1d2",
        "colab": {
          "base_uri": "https://localhost:8080/"
        }
      },
      "outputs": [
        {
          "output_type": "stream",
          "name": "stderr",
          "text": [
            "/usr/local/lib/python3.10/dist-packages/yfinance/base.py:48: FutureWarning: The default dtype for empty Series will be 'object' instead of 'float64' in a future version. Specify a dtype explicitly to silence this warning.\n",
            "  _empty_series = pd.Series()\n"
          ]
        }
      ],
      "source": [
        "import yfinance as yf\n",
        "from matplotlib import pyplot as plt\n",
        "\n",
        "import numpy as np\n",
        "import pandas as pd\n",
        "import math as m\n",
        "\n",
        "from sklearn.preprocessing import StandardScaler\n",
        "# from tensorboard_logger import configure\n",
        "\n",
        "import copy\n",
        "import sys\n",
        "import os\n",
        "\n",
        "import prep_data\n",
        "import train\n",
        "\n",
        "import torch\n",
        "import torch.nn as nn\n",
        "import torch.optim as optim\n",
        "import torch.utils.data as data\n",
        "from torch.utils.data import Dataset, DataLoader, TensorDataset\n",
        "\n",
        "from models.transformer import Transformer\n",
        "from models.rnn import RNN\n",
        "from models.autoformer import Autoformer"
      ]
    },
    {
      "cell_type": "code",
      "execution_count": 3,
      "metadata": {
        "colab": {
          "base_uri": "https://localhost:8080/"
        },
        "id": "6dCs51ZS0uW3",
        "outputId": "ab17f26c-72ac-49e7-9ba7-470b4097ae6e",
        "tags": []
      },
      "outputs": [
        {
          "output_type": "stream",
          "name": "stdout",
          "text": [
            "cpu\n"
          ]
        }
      ],
      "source": [
        "if torch.cuda.is_available():\n",
        " dev = \"cuda:0\"\n",
        "else:\n",
        " dev = \"cpu\"\n",
        "device = torch.device(dev)\n",
        "\n",
        "print(dev)"
      ]
    },
    {
      "cell_type": "markdown",
      "metadata": {
        "id": "fpkrg14PHDLs"
      },
      "source": [
        "# Load data from `yfinance`"
      ]
    },
    {
      "cell_type": "code",
      "execution_count": null,
      "metadata": {
        "scrolled": true,
        "tags": [],
        "id": "h0gaoOK2vI2I",
        "outputId": "65a6ff0d-1bc6-4d9e-90c5-c331c78623ea",
        "colab": {
          "base_uri": "https://localhost:8080/"
        }
      },
      "outputs": [
        {
          "output_type": "stream",
          "name": "stderr",
          "text": [
            "\r[*********************100%%**********************]  1 of 1 completed\n"
          ]
        },
        {
          "output_type": "stream",
          "name": "stdout",
          "text": [
            "                   Open         High          Low        Close    Adj Close  \\\n",
            "Date                                                                          \n",
            "1990-01-02  1120.760010  1120.760010  1120.760010  1120.760010  1120.471924   \n",
            "1990-01-03  1114.739990  1114.739990  1114.739990  1114.739990  1114.453369   \n",
            "1990-01-04  1129.250000  1129.250000  1129.250000  1129.250000  1128.959717   \n",
            "1990-01-05  1128.609985  1128.609985  1128.609985  1128.609985  1128.319824   \n",
            "1990-01-08  1131.369995  1131.369995  1131.369995  1131.369995  1131.079102   \n",
            "\n",
            "            Volume  \n",
            "Date                \n",
            "1990-01-02       0  \n",
            "1990-01-03       0  \n",
            "1990-01-04       0  \n",
            "1990-01-05       0  \n",
            "1990-01-08       0  \n"
          ]
        },
        {
          "output_type": "stream",
          "name": "stderr",
          "text": [
            "/usr/local/lib/python3.10/dist-packages/torch/nn/modules/loss.py:535: UserWarning: Using a target size (torch.Size([32, 1, 1])) that is different to the input size (torch.Size([32, 64, 1])). This will likely lead to incorrect results due to broadcasting. Please ensure they have the same size.\n",
            "  return F.mse_loss(input, target, reduction=self.reduction)\n"
          ]
        }
      ],
      "source": [
        "%%time\n",
        "model_transformer, loss_transformer, train_pred_transformer, test_pred_transformer, scaler = train.train(\n",
        "                                                                                        model=Transformer(dropout=0.4, embed_mode=\"pe\"),\n",
        "                                                                                        seq_len=64,\n",
        "                                                                                        horizon=1,\n",
        "                                                                                        max_epoch=10,\n",
        "                                                                                        batch_size=32,\n",
        "                                                                                        loss=nn.MSELoss(),\n",
        "                                                                                        optimizer=optim.Adam,\n",
        "                                                                                        lr=1e-4,\n",
        "                                                                                        device=dev\n",
        "                                                                                    )"
      ]
    },
    {
      "cell_type": "code",
      "execution_count": 5,
      "metadata": {
        "scrolled": true,
        "tags": [],
        "id": "tip0l1IkvI2F",
        "outputId": "5b4c871f-dcac-4c22-a2ab-228932b974e9",
        "colab": {
          "base_uri": "https://localhost:8080/"
        }
      },
      "outputs": [
        {
          "output_type": "stream",
          "name": "stderr",
          "text": [
            "\r[*********************100%%**********************]  1 of 1 completed\n"
          ]
        },
        {
          "output_type": "stream",
          "name": "stdout",
          "text": [
            "                   Open         High          Low        Close    Adj Close  \\\n",
            "Date                                                                          \n",
            "1990-01-02  1120.760010  1120.760010  1120.760010  1120.760010  1120.471924   \n",
            "1990-01-03  1114.739990  1114.739990  1114.739990  1114.739990  1114.453369   \n",
            "1990-01-04  1129.250000  1129.250000  1129.250000  1129.250000  1128.959717   \n",
            "1990-01-05  1128.609985  1128.609985  1128.609985  1128.609985  1128.319824   \n",
            "1990-01-08  1131.369995  1131.369995  1131.369995  1131.369995  1131.079102   \n",
            "\n",
            "            Volume  \n",
            "Date                \n",
            "1990-01-02       0  \n",
            "1990-01-03       0  \n",
            "1990-01-04       0  \n",
            "1990-01-05       0  \n",
            "1990-01-08       0  \n",
            "Epoch 0 | train loss 0.536345642391998 | test_loss 1.2040023803710938 | wall_time 12.686029434204102 | process_time 8.721447042\n",
            "Epoch 1 | train loss 0.5352667629128636 | test_loss 1.20502769947052 | wall_time 6.4207987785339355 | process_time 6.356306580000002\n",
            "Epoch 2 | train loss 0.5347885660605856 | test_loss 1.2055866718292236 | wall_time 5.491386890411377 | process_time 5.489969874\n",
            "Epoch 3 | train loss 0.5325267527363088 | test_loss 1.2067251205444336 | wall_time 6.475773334503174 | process_time 6.421249132\n",
            "Epoch 4 | train loss 0.5323984882619122 | test_loss 1.2089744806289673 | wall_time 5.44989275932312 | process_time 5.463163577000003\n",
            "Epoch 5 | train loss 0.5323390394154162 | test_loss 1.2094345092773438 | wall_time 6.53551173210144 | process_time 6.458047576999995\n",
            "Epoch 6 | train loss 0.5337437922411626 | test_loss 1.209038257598877 | wall_time 5.446690559387207 | process_time 5.459270535999998\n",
            "Epoch 7 | train loss 0.533201538690246 | test_loss 1.2087554931640625 | wall_time 6.4318060874938965 | process_time 6.352914747999996\n",
            "Epoch 8 | train loss 0.5312582714722889 | test_loss 1.209702730178833 | wall_time 5.54741358757019 | process_time 5.554720216999996\n",
            "Epoch 9 | train loss 0.5322673533222463 | test_loss 1.20936119556427 | wall_time 6.481003761291504 | process_time 6.420333146999994\n",
            "CPU times: user 1min 5s, sys: 1.5 s, total: 1min 7s\n",
            "Wall time: 1min 11s\n"
          ]
        }
      ],
      "source": [
        "%%time\n",
        "model_rnn, loss_rnn, train_pred_rnn, test_pred_rnn, scaler = train.train(\n",
        "                                                        model=RNN(dropout=0.2),\n",
        "                                                        seq_len=64,\n",
        "                                                        horizon=1,\n",
        "                                                        max_epoch=10,\n",
        "                                                        batch_size=32,\n",
        "                                                        loss=nn.MSELoss(),\n",
        "                                                        optimizer=optim.Adam,\n",
        "                                                        lr=1e-4,\n",
        "                                                        device=dev\n",
        "                                                    )"
      ]
    }
  ],
  "metadata": {
    "accelerator": "GPU",
    "colab": {
      "gpuType": "T4",
      "provenance": [],
      "include_colab_link": true
    },
    "kernelspec": {
      "display_name": "Python 3",
      "name": "python3"
    },
    "language_info": {
      "codemirror_mode": {
        "name": "ipython",
        "version": 3
      },
      "file_extension": ".py",
      "mimetype": "text/x-python",
      "name": "python",
      "nbconvert_exporter": "python",
      "pygments_lexer": "ipython3",
      "version": "3.10.13"
    }
  },
  "nbformat": 4,
  "nbformat_minor": 0
}