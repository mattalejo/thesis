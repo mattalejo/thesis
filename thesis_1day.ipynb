{
 "cells": [
  {
   "cell_type": "markdown",
   "metadata": {
    "id": "B6OVBygNG_4s"
   },
   "source": [
    "# Import libraries"
   ]
  },
  {
   "cell_type": "code",
   "execution_count": 1,
   "metadata": {
    "id": "brLVmgNT0izE",
    "tags": []
   },
   "outputs": [],
   "source": [
    "import yfinance as yf\n",
    "from matplotlib import pyplot as plt\n",
    "\n",
    "import numpy as np\n",
    "import pandas as pd\n",
    "import math as m\n",
    "\n",
    "from sklearn.preprocessing import StandardScaler\n",
    "# from tensorboard_logger import configure\n",
    "\n",
    "import copy\n",
    "import sys\n",
    "import os\n",
    "\n",
    "import prep_data\n",
    "import train\n",
    "\n",
    "import torch\n",
    "import torch.nn as nn\n",
    "import torch.optim as optim\n",
    "import torch.utils.data as data\n",
    "from torch.utils.data import Dataset, DataLoader, TensorDataset\n",
    "\n",
    "from models.transformer import Transformer\n",
    "from models.rnn import RNN\n",
    "from models.autoformer import Autoformer"
   ]
  },
  {
   "cell_type": "code",
   "execution_count": 2,
   "metadata": {
    "colab": {
     "base_uri": "https://localhost:8080/"
    },
    "id": "6dCs51ZS0uW3",
    "outputId": "07ce2eca-4f71-4093-824f-2802fceb9025",
    "tags": []
   },
   "outputs": [
    {
     "name": "stdout",
     "output_type": "stream",
     "text": [
      "cuda:0\n"
     ]
    }
   ],
   "source": [
    "if torch.cuda.is_available():\n",
    " dev = \"cuda:0\"\n",
    "else:\n",
    " dev = \"cpu\"\n",
    "device = torch.device(dev)\n",
    "\n",
    "print(dev)"
   ]
  },
  {
   "cell_type": "markdown",
   "metadata": {
    "id": "fpkrg14PHDLs"
   },
   "source": [
    "# Load data from `yfinance`"
   ]
  },
  {
   "cell_type": "code",
   "execution_count": 3,
   "metadata": {
    "scrolled": true,
    "tags": []
   },
   "outputs": [
    {
     "name": "stderr",
     "output_type": "stream",
     "text": [
      "[*********************100%%**********************]  1 of 1 completed"
     ]
    },
    {
     "name": "stdout",
     "output_type": "stream",
     "text": [
      "                   Open         High          Low        Close    Adj Close  \\\n",
      "Date                                                                          \n",
      "2000-01-03  2143.669922  2148.709961  2122.989990  2141.770020  2141.219482   \n",
      "2000-01-04  2151.550049  2158.209961  2130.679932  2153.179932  2152.626465   \n",
      "2000-01-05  2113.379883  2113.379883  2070.139893  2074.750000  2074.216553   \n",
      "2000-01-06  2079.050049  2082.810059  2066.879883  2079.110107  2078.575684   \n",
      "2000-01-07  2079.320068  2094.290039  2077.649902  2094.290039  2093.751709   \n",
      "\n",
      "            Volume  \n",
      "Date                \n",
      "2000-01-03       0  \n",
      "2000-01-04       0  \n",
      "2000-01-05       0  \n",
      "2000-01-06       0  \n",
      "2000-01-07       0  \n"
     ]
    },
    {
     "name": "stderr",
     "output_type": "stream",
     "text": [
      "\n"
     ]
    },
    {
     "data": {
      "text/plain": [
       "(tensor([[[-0.0145],\n",
       "          [-0.0145],\n",
       "          [-0.0145],\n",
       "          ...,\n",
       "          [-0.0145],\n",
       "          [ 0.0744],\n",
       "          [ 0.5592]],\n",
       " \n",
       "         [[-0.0145],\n",
       "          [-0.0145],\n",
       "          [-0.0145],\n",
       "          ...,\n",
       "          [-0.0145],\n",
       "          [-0.0145],\n",
       "          [ 0.0744]],\n",
       " \n",
       "         [[-0.0145],\n",
       "          [-0.0145],\n",
       "          [-0.0145],\n",
       "          ...,\n",
       "          [-0.0145],\n",
       "          [-0.0145],\n",
       "          [-0.0145]],\n",
       " \n",
       "         ...,\n",
       " \n",
       "         [[-0.0145],\n",
       "          [-0.0145],\n",
       "          [-0.3328],\n",
       "          ...,\n",
       "          [-0.0145],\n",
       "          [-0.0145],\n",
       "          [-0.0145]],\n",
       " \n",
       "         [[-0.0145],\n",
       "          [-0.0145],\n",
       "          [-0.0145],\n",
       "          ...,\n",
       "          [-1.6898],\n",
       "          [-0.0145],\n",
       "          [-0.0145]],\n",
       " \n",
       "         [[-0.0145],\n",
       "          [-0.0145],\n",
       "          [-0.0145],\n",
       "          ...,\n",
       "          [ 1.1696],\n",
       "          [-1.6898],\n",
       "          [-0.0145]]]),\n",
       " tensor([[[-0.0145]],\n",
       " \n",
       "         [[-0.0145]],\n",
       " \n",
       "         [[-1.4659]],\n",
       " \n",
       "         ...,\n",
       " \n",
       "         [[-0.0145]],\n",
       " \n",
       "         [[-0.0145]],\n",
       " \n",
       "         [[-0.0145]]]))"
      ]
     },
     "execution_count": 3,
     "metadata": {},
     "output_type": "execute_result"
    }
   ],
   "source": [
    "X, y, scaler = prep_data.log_returns(seq_len=128, horizon=1)\n",
    "X, y"
   ]
  },
  {
   "cell_type": "code",
   "execution_count": 4,
   "metadata": {
    "tags": []
   },
   "outputs": [],
   "source": [
    "X_train, X_test = prep_data.train_test_split(X)\n",
    "y_train, y_test = prep_data.train_test_split(y)"
   ]
  },
  {
   "cell_type": "code",
   "execution_count": 9,
   "metadata": {
    "scrolled": true,
    "tags": []
   },
   "outputs": [
    {
     "name": "stdout",
     "output_type": "stream",
     "text": [
      "Epoch 0 | train loss 0.6269250952679178 | test_loss 0.5944202542304993\n",
      "Epoch 1 | train loss 0.6248029625934103 | test_loss 0.5942913889884949\n",
      "Epoch 2 | train loss 0.6261852927829908 | test_loss 0.5941330790519714\n",
      "Epoch 3 | train loss 0.6245577853658925 | test_loss 0.5937440991401672\n",
      "Epoch 4 | train loss 0.6260536027991254 | test_loss 0.5936562418937683\n",
      "Epoch 5 | train loss 0.6238777326500934 | test_loss 0.5933871865272522\n",
      "Epoch 6 | train loss 0.622827032338018 | test_loss 0.5935478806495667\n",
      "Epoch 7 | train loss 0.6248156091441279 | test_loss 0.5933265089988708\n",
      "Epoch 8 | train loss 0.6247736889383068 | test_loss 0.5933454036712646\n",
      "Epoch 9 | train loss 0.623428552047066 | test_loss 0.593553364276886\n",
      "<class 'numpy.float64'> <class 'numpy.ndarray'>\n",
      "CPU times: user 3.33 s, sys: 1.14 s, total: 4.47 s\n",
      "Wall time: 4.96 s\n"
     ]
    }
   ],
   "source": [
    "%%time\n",
    "model_rnn, loss_rnn, train_pred_rnn, test_pred_rnn = train.train(\n",
    "                                                        model=RNN(dropout=0.2), \n",
    "                                                        X_train=X_train, \n",
    "                                                        y_train=y_train, \n",
    "                                                        X_test=X_test, \n",
    "                                                        y_test=y_test, \n",
    "                                                        max_epoch=10,\n",
    "                                                        batch_size=32,\n",
    "                                                        loss=nn.MSELoss(),\n",
    "                                                        optimizer=optim.Adam,\n",
    "                                                        lr=1e-4,\n",
    "                                                        device=dev\n",
    "                                                    )"
   ]
  },
  {
   "cell_type": "code",
   "execution_count": null,
   "metadata": {
    "tags": []
   },
   "outputs": [],
   "source": []
  },
  {
   "cell_type": "code",
   "execution_count": 10,
   "metadata": {
    "tags": []
   },
   "outputs": [],
   "source": [
    "for column in train_pred_rnn.columns:\n",
    "    train_pred_rnn[column] = scaler.inverse_transform(train_pred_rnn[column].values.reshape(-1,1))"
   ]
  },
  {
   "cell_type": "code",
   "execution_count": 7,
   "metadata": {
    "tags": []
   },
   "outputs": [
    {
     "data": {
      "text/plain": [
       "[<matplotlib.lines.Line2D at 0x7f1f1cb81fc0>,\n",
       " <matplotlib.lines.Line2D at 0x7f1f1cb82020>]"
      ]
     },
     "execution_count": 7,
     "metadata": {},
     "output_type": "execute_result"
    },
    {
     "data": {
      "image/png": "[encoded data removed]",
      "text/plain": [
       "<Figure size 640x480 with 1 Axes>"
      ]
     },
     "metadata": {},
     "output_type": "display_data"
    }
   ],
   "source": [
    "plt.plot(np.exp(train_pred_rnn[[\"y\", \"epoch_999\"]].cumsum()))"
   ]
  },
  {
   "cell_type": "code",
   "execution_count": 10,
   "metadata": {
    "tags": []
   },
   "outputs": [],
   "source": [
    "for column in test_pred_rnn.columns:\n",
    "    test_pred_rnn[column] = scaler.inverse_transform(test_pred_rnn[column].values.reshape(-1,1))"
   ]
  },
  {
   "cell_type": "code",
   "execution_count": 11,
   "metadata": {
    "tags": []
   },
   "outputs": [
    {
     "data": {
      "text/plain": [
       "[<matplotlib.lines.Line2D at 0x7ff356390d90>,\n",
       " <matplotlib.lines.Line2D at 0x7ff356391120>]"
      ]
     },
     "execution_count": 11,
     "metadata": {},
     "output_type": "execute_result"
    },
    {
     "data": {
      "image/png": "[encoded data removed]",
      "text/plain": [
       "<Figure size 640x480 with 1 Axes>"
      ]
     },
     "metadata": {},
     "output_type": "display_data"
    }
   ],
   "source": [
    "plt.plot(train_pred_rnn[[\"y\", \"epoch_9\"]])"
   ]
  },
  {
   "cell_type": "code",
   "execution_count": 12,
   "metadata": {
    "tags": []
   },
   "outputs": [
    {
     "data": {
      "text/plain": [
       "[<matplotlib.lines.Line2D at 0x7f1f16a8c730>,\n",
       " <matplotlib.lines.Line2D at 0x7f1f16a8c790>]"
      ]
     },
     "execution_count": 12,
     "metadata": {},
     "output_type": "execute_result"
    },
    {
     "data": {
      "image/png": "[encoded data removed]",
      "text/plain": [
       "<Figure size 640x480 with 1 Axes>"
      ]
     },
     "metadata": {},
     "output_type": "display_data"
    }
   ],
   "source": [
    "plt.plot(np.exp(test_pred_rnn[[\"y\", \"epoch_999\"]].cumsum()))"
   ]
  },
  {
   "cell_type": "code",
   "execution_count": 23,
   "metadata": {
    "tags": []
   },
   "outputs": [
    {
     "data": {
      "text/plain": [
       "[<matplotlib.lines.Line2D at 0x7f16942e3460>,\n",
       " <matplotlib.lines.Line2D at 0x7f16942e34c0>]"
      ]
     },
     "execution_count": 23,
     "metadata": {},
     "output_type": "execute_result"
    },
    {
     "data": {
      "image/png": "[encoded data removed]",
      "text/plain": [
       "<Figure size 640x480 with 1 Axes>"
      ]
     },
     "metadata": {},
     "output_type": "display_data"
    }
   ],
   "source": [
    "plt.plot(loss_rnn)"
   ]
  },
  {
   "cell_type": "code",
   "execution_count": 4,
   "metadata": {
    "scrolled": true,
    "tags": []
   },
   "outputs": [
    {
     "name": "stderr",
     "output_type": "stream",
     "text": [
      "[*********************100%%**********************]  1 of 1 completed\n"
     ]
    },
    {
     "name": "stdout",
     "output_type": "stream",
     "text": [
      "                   Open         High          Low        Close    Adj Close  \\\n",
      "Date                                                                          \n",
      "2000-01-03  2143.669922  2148.709961  2122.989990  2141.770020  2141.219482   \n",
      "2000-01-04  2151.550049  2158.209961  2130.679932  2153.179932  2152.626465   \n",
      "2000-01-05  2113.379883  2113.379883  2070.139893  2074.750000  2074.216553   \n",
      "2000-01-06  2079.050049  2082.810059  2066.879883  2079.110107  2078.575684   \n",
      "2000-01-07  2079.320068  2094.290039  2077.649902  2094.290039  2093.751709   \n",
      "\n",
      "            Volume  \n",
      "Date                \n",
      "2000-01-03       0  \n",
      "2000-01-04       0  \n",
      "2000-01-05       0  \n",
      "2000-01-06       0  \n",
      "2000-01-07       0  \n",
      "Epoch 0 | train loss 0.5139130302097487 | test_loss 0.3777265250682831\n",
      "Epoch 1 | train loss 0.3318650204202403 | test_loss 0.5514440536499023\n",
      "Epoch 2 | train loss 0.2950695493946905 | test_loss 0.8818422555923462\n",
      "Epoch 3 | train loss 0.2509431217027747 | test_loss 1.0596660375595093\n",
      "Epoch 4 | train loss 0.2146094570989194 | test_loss 1.5328317880630493\n",
      "Epoch 5 | train loss 0.18626789424730383 | test_loss 1.6990351676940918\n",
      "Epoch 6 | train loss 0.1645460854405942 | test_loss 2.02512526512146\n",
      "Epoch 7 | train loss 0.16051171136939008 | test_loss 1.8556760549545288\n",
      "Epoch 8 | train loss 0.13256430625915527 | test_loss 2.0596706867218018\n",
      "Epoch 9 | train loss 0.141706311184427 | test_loss 1.962799310684204\n",
      "<class 'numpy.float64'> <class 'numpy.ndarray'>\n",
      "CPU times: user 32.1 s, sys: 15 s, total: 47.1 s\n",
      "Wall time: 47 s\n"
     ]
    }
   ],
   "source": [
    "%%time\n",
    "model_transformer, loss_transformer, train_pred_transformer, test_pred_transformer = train.train(\n",
    "                                                                                        model=Transformer(dropout=0.4), \n",
    "                                                                                        seq_len=128,\n",
    "                                                                                        horizon=1,\n",
    "                                                                                        max_epoch=10,\n",
    "                                                                                        batch_size=32,\n",
    "                                                                                        loss=nn.MSELoss(),\n",
    "                                                                                        optimizer=optim.Adam,\n",
    "                                                                                        lr=1e-4,\n",
    "                                                                                        device=dev\n",
    "                                                                                    )"
   ]
  },
  {
   "cell_type": "code",
   "execution_count": 6,
   "metadata": {
    "tags": []
   },
   "outputs": [],
   "source": [
    "for column in train_pred_transformer.columns:\n",
    "    train_pred_transformer[column] = scaler.inverse_transform(train_pred_transformer[column].values.reshape(-1,1))\n",
    "for column in test_pred_transformer.columns:\n",
    "    test_pred_transformer[column] = scaler.inverse_transform(test_pred_transformer[column].values.reshape(-1,1))"
   ]
  },
  {
   "cell_type": "code",
   "execution_count": 13,
   "metadata": {
    "tags": []
   },
   "outputs": [
    {
     "data": {
      "text/plain": [
       "[<matplotlib.lines.Line2D at 0x7ff363756da0>,\n",
       " <matplotlib.lines.Line2D at 0x7ff35647b8b0>]"
      ]
     },
     "execution_count": 13,
     "metadata": {},
     "output_type": "execute_result"
    },
    {
     "data": {
      "image/png": "[encoded data removed]",
      "text/plain": [
       "<Figure size 640x480 with 1 Axes>"
      ]
     },
     "metadata": {},
     "output_type": "display_data"
    }
   ],
   "source": [
    "plt.plot(train_pred_transformer[[\"y\", \"epoch_9\"]])"
   ]
  },
  {
   "cell_type": "code",
   "execution_count": 5,
   "metadata": {
    "tags": []
   },
   "outputs": [
    {
     "ename": "TypeError",
     "evalue": "AutoformerModel.forward() missing 2 required positional arguments: 'past_time_features' and 'past_observed_mask'",
     "output_type": "error",
     "traceback": [
      "\u001b[0;31m---------------------------------------------------------------------------\u001b[0m",
      "\u001b[0;31mTypeError\u001b[0m                                 Traceback (most recent call last)",
      "File \u001b[0;32m<timed exec>:1\u001b[0m\n",
      "File \u001b[0;32m~/thesis/train.py:52\u001b[0m, in \u001b[0;36mtrain\u001b[0;34m(model, X_train, y_train, X_test, y_test, max_epoch, batch_size, loss, optimizer, lr, device)\u001b[0m\n\u001b[1;32m     48\u001b[0m y_train_pred \u001b[38;5;241m=\u001b[39m torch\u001b[38;5;241m.\u001b[39mTensor()  \u001b[38;5;66;03m# Whole sequence of train dataset prediction\u001b[39;00m\n\u001b[1;32m     50\u001b[0m \u001b[38;5;28;01mfor\u001b[39;00m X_batch, y_batch \u001b[38;5;129;01min\u001b[39;00m loader:\n\u001b[1;32m     51\u001b[0m     \u001b[38;5;66;03m# Forward pass and backpropagation\u001b[39;00m\n\u001b[0;32m---> 52\u001b[0m     y_pred \u001b[38;5;241m=\u001b[39m \u001b[43mmodel\u001b[49m\u001b[43m(\u001b[49m\u001b[43mX_batch\u001b[49m\u001b[38;5;241;43m.\u001b[39;49m\u001b[43mto\u001b[49m\u001b[43m(\u001b[49m\u001b[43mdevice\u001b[49m\u001b[43m)\u001b[49m\u001b[43m,\u001b[49m\u001b[43m \u001b[49m\u001b[43my_batch\u001b[49m\u001b[38;5;241;43m.\u001b[39;49m\u001b[43mto\u001b[49m\u001b[43m(\u001b[49m\u001b[43mdevice\u001b[49m\u001b[43m)\u001b[49m\u001b[43m)\u001b[49m  \u001b[38;5;66;03m# y_pred: (batch_size, horizon, 1)\u001b[39;00m\n\u001b[1;32m     53\u001b[0m     batch_loss \u001b[38;5;241m=\u001b[39m loss(y_pred, y_batch\u001b[38;5;241m.\u001b[39mto(device))\n\u001b[1;32m     54\u001b[0m     total_loss \u001b[38;5;241m+\u001b[39m\u001b[38;5;241m=\u001b[39m batch_loss\n",
      "File \u001b[0;32m/opt/conda/lib/python3.10/site-packages/torch/nn/modules/module.py:1501\u001b[0m, in \u001b[0;36mModule._call_impl\u001b[0;34m(self, *args, **kwargs)\u001b[0m\n\u001b[1;32m   1496\u001b[0m \u001b[38;5;66;03m# If we don't have any hooks, we want to skip the rest of the logic in\u001b[39;00m\n\u001b[1;32m   1497\u001b[0m \u001b[38;5;66;03m# this function, and just call forward.\u001b[39;00m\n\u001b[1;32m   1498\u001b[0m \u001b[38;5;28;01mif\u001b[39;00m \u001b[38;5;129;01mnot\u001b[39;00m (\u001b[38;5;28mself\u001b[39m\u001b[38;5;241m.\u001b[39m_backward_hooks \u001b[38;5;129;01mor\u001b[39;00m \u001b[38;5;28mself\u001b[39m\u001b[38;5;241m.\u001b[39m_backward_pre_hooks \u001b[38;5;129;01mor\u001b[39;00m \u001b[38;5;28mself\u001b[39m\u001b[38;5;241m.\u001b[39m_forward_hooks \u001b[38;5;129;01mor\u001b[39;00m \u001b[38;5;28mself\u001b[39m\u001b[38;5;241m.\u001b[39m_forward_pre_hooks\n\u001b[1;32m   1499\u001b[0m         \u001b[38;5;129;01mor\u001b[39;00m _global_backward_pre_hooks \u001b[38;5;129;01mor\u001b[39;00m _global_backward_hooks\n\u001b[1;32m   1500\u001b[0m         \u001b[38;5;129;01mor\u001b[39;00m _global_forward_hooks \u001b[38;5;129;01mor\u001b[39;00m _global_forward_pre_hooks):\n\u001b[0;32m-> 1501\u001b[0m     \u001b[38;5;28;01mreturn\u001b[39;00m \u001b[43mforward_call\u001b[49m\u001b[43m(\u001b[49m\u001b[38;5;241;43m*\u001b[39;49m\u001b[43margs\u001b[49m\u001b[43m,\u001b[49m\u001b[43m \u001b[49m\u001b[38;5;241;43m*\u001b[39;49m\u001b[38;5;241;43m*\u001b[39;49m\u001b[43mkwargs\u001b[49m\u001b[43m)\u001b[49m\n\u001b[1;32m   1502\u001b[0m \u001b[38;5;66;03m# Do not call functions when jit is used\u001b[39;00m\n\u001b[1;32m   1503\u001b[0m full_backward_hooks, non_full_backward_hooks \u001b[38;5;241m=\u001b[39m [], []\n",
      "File \u001b[0;32m~/thesis/models/autoformer.py:32\u001b[0m, in \u001b[0;36mAutoformer.forward\u001b[0;34m(self, src, tgt)\u001b[0m\n\u001b[1;32m     30\u001b[0m src \u001b[38;5;241m=\u001b[39m src\u001b[38;5;241m.\u001b[39msqueeze(\u001b[38;5;241m2\u001b[39m)\n\u001b[1;32m     31\u001b[0m tgt \u001b[38;5;241m=\u001b[39m tgt\u001b[38;5;241m.\u001b[39msqueeze(\u001b[38;5;241m2\u001b[39m)\n\u001b[0;32m---> 32\u001b[0m output \u001b[38;5;241m=\u001b[39m \u001b[38;5;28;43mself\u001b[39;49m\u001b[38;5;241;43m.\u001b[39;49m\u001b[43mautoformer\u001b[49m\u001b[43m(\u001b[49m\u001b[43mpast_values\u001b[49m\u001b[38;5;241;43m=\u001b[39;49m\u001b[43msrc\u001b[49m\u001b[43m,\u001b[49m\u001b[43m \u001b[49m\u001b[43mfuture_values\u001b[49m\u001b[38;5;241;43m=\u001b[39;49m\u001b[43mtgt\u001b[49m\u001b[43m)\u001b[49m\n\u001b[1;32m     33\u001b[0m \u001b[38;5;28;01mreturn\u001b[39;00m output\n",
      "File \u001b[0;32m/opt/conda/lib/python3.10/site-packages/torch/nn/modules/module.py:1501\u001b[0m, in \u001b[0;36mModule._call_impl\u001b[0;34m(self, *args, **kwargs)\u001b[0m\n\u001b[1;32m   1496\u001b[0m \u001b[38;5;66;03m# If we don't have any hooks, we want to skip the rest of the logic in\u001b[39;00m\n\u001b[1;32m   1497\u001b[0m \u001b[38;5;66;03m# this function, and just call forward.\u001b[39;00m\n\u001b[1;32m   1498\u001b[0m \u001b[38;5;28;01mif\u001b[39;00m \u001b[38;5;129;01mnot\u001b[39;00m (\u001b[38;5;28mself\u001b[39m\u001b[38;5;241m.\u001b[39m_backward_hooks \u001b[38;5;129;01mor\u001b[39;00m \u001b[38;5;28mself\u001b[39m\u001b[38;5;241m.\u001b[39m_backward_pre_hooks \u001b[38;5;129;01mor\u001b[39;00m \u001b[38;5;28mself\u001b[39m\u001b[38;5;241m.\u001b[39m_forward_hooks \u001b[38;5;129;01mor\u001b[39;00m \u001b[38;5;28mself\u001b[39m\u001b[38;5;241m.\u001b[39m_forward_pre_hooks\n\u001b[1;32m   1499\u001b[0m         \u001b[38;5;129;01mor\u001b[39;00m _global_backward_pre_hooks \u001b[38;5;129;01mor\u001b[39;00m _global_backward_hooks\n\u001b[1;32m   1500\u001b[0m         \u001b[38;5;129;01mor\u001b[39;00m _global_forward_hooks \u001b[38;5;129;01mor\u001b[39;00m _global_forward_pre_hooks):\n\u001b[0;32m-> 1501\u001b[0m     \u001b[38;5;28;01mreturn\u001b[39;00m \u001b[43mforward_call\u001b[49m\u001b[43m(\u001b[49m\u001b[38;5;241;43m*\u001b[39;49m\u001b[43margs\u001b[49m\u001b[43m,\u001b[49m\u001b[43m \u001b[49m\u001b[38;5;241;43m*\u001b[39;49m\u001b[38;5;241;43m*\u001b[39;49m\u001b[43mkwargs\u001b[49m\u001b[43m)\u001b[49m\n\u001b[1;32m   1502\u001b[0m \u001b[38;5;66;03m# Do not call functions when jit is used\u001b[39;00m\n\u001b[1;32m   1503\u001b[0m full_backward_hooks, non_full_backward_hooks \u001b[38;5;241m=\u001b[39m [], []\n",
      "\u001b[0;31mTypeError\u001b[0m: AutoformerModel.forward() missing 2 required positional arguments: 'past_time_features' and 'past_observed_mask'"
     ]
    }
   ],
   "source": [
    "%%time\n",
    "model_autoformer, loss_autoformer, train_pred_autoformer, test_pred_autoformer = train.train(\n",
    "                                                                                        model=Autoformer(dropout=0.4), \n",
    "                                                                                        X_train=X_train, \n",
    "                                                                                        y_train=y_train, \n",
    "                                                                                        X_test=X_test, \n",
    "                                                                                        y_test=y_test, \n",
    "                                                                                        max_epoch=10,\n",
    "                                                                                        batch_size=32,\n",
    "                                                                                        loss=nn.MSELoss(),\n",
    "                                                                                        optimizer=optim.Adam,\n",
    "                                                                                        lr=1e-4,\n",
    "                                                                                        device=dev\n",
    "                                                                                    )"
   ]
  },
  {
   "cell_type": "code",
   "execution_count": 3,
   "metadata": {
    "tags": []
   },
   "outputs": [
    {
     "name": "stderr",
     "output_type": "stream",
     "text": [
      "[*********************100%%**********************]  1 of 1 completed\n"
     ]
    },
    {
     "name": "stdout",
     "output_type": "stream",
     "text": [
      "                   Open         High          Low        Close    Adj Close  \\\n",
      "Date                                                                          \n",
      "2000-01-03  2143.669922  2148.709961  2122.989990  2141.770020  2141.219482   \n",
      "2000-01-04  2151.550049  2158.209961  2130.679932  2153.179932  2152.626465   \n",
      "2000-01-05  2113.379883  2113.379883  2070.139893  2074.750000  2074.216553   \n",
      "2000-01-06  2079.050049  2082.810059  2066.879883  2079.110107  2078.575684   \n",
      "2000-01-07  2079.320068  2094.290039  2077.649902  2094.290039  2093.751709   \n",
      "\n",
      "            Volume  \n",
      "Date                \n",
      "2000-01-03       0  \n",
      "2000-01-04       0  \n",
      "2000-01-05       0  \n",
      "2000-01-06       0  \n",
      "2000-01-07       0  \n",
      "<class 'torch.Tensor'>\n",
      "<built-in method values of Tensor object at 0x7fe7572531a0>\n",
      "<class 'torch.Tensor'>\n"
     ]
    },
    {
     "ename": "TypeError",
     "evalue": "unsupported operand type(s) for *: 'builtin_function_or_method' and 'Tensor'",
     "output_type": "error",
     "traceback": [
      "\u001b[0;31m---------------------------------------------------------------------------\u001b[0m",
      "\u001b[0;31mTypeError\u001b[0m                                 Traceback (most recent call last)",
      "File \u001b[0;32m<timed exec>:1\u001b[0m\n",
      "File \u001b[0;32m~/thesis/train.py:183\u001b[0m, in \u001b[0;36mtrain_cumsum\u001b[0;34m(model, seq_len, horizon, max_epoch, batch_size, loss, optimizer, lr, device)\u001b[0m\n\u001b[1;32m    179\u001b[0m close_train \u001b[38;5;241m=\u001b[39m close_price(\n\u001b[1;32m    180\u001b[0m             scaler\u001b[38;5;241m.\u001b[39minverse_fit(y_pred)\u001b[38;5;241m.\u001b[39mcpu()\u001b[38;5;241m.\u001b[39mdetach()\u001b[38;5;241m.\u001b[39mnumpy()\n\u001b[1;32m    181\u001b[0m         )\n\u001b[1;32m    182\u001b[0m \u001b[38;5;66;03m# print(type(close_train))\u001b[39;00m\n\u001b[0;32m--> 183\u001b[0m y_price_pred \u001b[38;5;241m=\u001b[39m \u001b[43mlast_price\u001b[49m\u001b[43m \u001b[49m\u001b[38;5;241;43m*\u001b[39;49m\u001b[43m \u001b[49m\u001b[43mtorch\u001b[49m\u001b[38;5;241;43m.\u001b[39;49m\u001b[43mtensor\u001b[49m\u001b[43m(\u001b[49m\n\u001b[1;32m    184\u001b[0m \u001b[43m        \u001b[49m\u001b[43mclose_train\u001b[49m\u001b[43m,\u001b[49m\n\u001b[1;32m    185\u001b[0m \u001b[43m        \u001b[49m\u001b[43mrequires_grad\u001b[49m\u001b[38;5;241;43m=\u001b[39;49m\u001b[38;5;28;43;01mTrue\u001b[39;49;00m\n\u001b[1;32m    186\u001b[0m \u001b[43m    \u001b[49m\u001b[43m)\u001b[49m\n\u001b[1;32m    188\u001b[0m \u001b[38;5;66;03m# print(f\"y_price_pred {y_price_pred.shape}, y_price_batch {y_price_batch.shape}\")            \u001b[39;00m\n\u001b[1;32m    189\u001b[0m batch_loss \u001b[38;5;241m+\u001b[39m\u001b[38;5;241m=\u001b[39m loss(y_price_pred\u001b[38;5;241m.\u001b[39mto(device), y_price_batch\u001b[38;5;241m.\u001b[39mto(device))\n",
      "\u001b[0;31mTypeError\u001b[0m: unsupported operand type(s) for *: 'builtin_function_or_method' and 'Tensor'"
     ]
    }
   ],
   "source": [
    "%%time\n",
    "model_transformer, loss_transformer, train_pred_transformer, test_pred_transformer, train_price_transformer, test_price_transformer = train.train_cumsum(\n",
    "                                                                                        model=Transformer(dropout=0.4), \n",
    "                                                                                        seq_len=128,\n",
    "                                                                                        horizon=1,\n",
    "                                                                                        max_epoch=10,\n",
    "                                                                                        batch_size=32,\n",
    "                                                                                        loss=nn.MSELoss(),\n",
    "                                                                                        optimizer=optim.Adam,\n",
    "                                                                                        lr=1e-4,\n",
    "                                                                                        device=dev\n",
    "                                                                                    )"
   ]
  },
  {
   "cell_type": "markdown",
   "metadata": {
    "id": "VD1EDni9gace",
    "tags": []
   },
   "source": [
    "`# Prepare dataframe for `neuralforecast`"
   ]
  },
  {
   "cell_type": "code",
   "execution_count": 8,
   "metadata": {
    "tags": []
   },
   "outputs": [
    {
     "data": {
      "text/plain": [
       "[<matplotlib.lines.Line2D at 0x7f25845f1390>,\n",
       " <matplotlib.lines.Line2D at 0x7f2585c32b60>]"
      ]
     },
     "execution_count": 8,
     "metadata": {},
     "output_type": "execute_result"
    },
    {
     "data": {
      "image/png": "[encoded data removed]",
      "text/plain": [
       "<Figure size 640x480 with 1 Axes>"
      ]
     },
     "metadata": {},
     "output_type": "display_data"
    }
   ],
   "source": [
    "plt.plot(train_pred_transformer[[\"y\", \"epoch_2\"]])"
   ]
  },
  {
   "cell_type": "code",
   "execution_count": null,
   "metadata": {},
   "outputs": [],
   "source": [
    "INPUT_DIM = 128\n",
    "OUTPUT_DIM = 1\n",
    "BATCH = 32"
   ]
  },
  {
   "cell_type": "code",
   "execution_count": null,
   "metadata": {
    "colab": {
     "base_uri": "https://localhost:8080/",
     "height": 449
    },
    "id": "fKVSaKsF310Z",
    "outputId": "a162a499-40a9-42c4-fd17-974bca3bd97a",
    "tags": []
   },
   "outputs": [],
   "source": [
    "plt.plot(df_lst[-1][\"y\"])"
   ]
  },
  {
   "cell_type": "code",
   "execution_count": null,
   "metadata": {
    "id": "Lq4oJbZ6O90l",
    "tags": []
   },
   "outputs": [],
   "source": [
    "val_size = m.ceil(.2*len(raw_data.index))\n",
    "test_size = m.ceil(.2*len(raw_data.index))"
   ]
  },
  {
   "cell_type": "code",
   "execution_count": null,
   "metadata": {
    "id": "ZbGE5CbKzJai",
    "tags": []
   },
   "outputs": [],
   "source": [
    "N_LAYERS = [1,2,4]\n",
    "HORIZON = [1,5,30]\n",
    "LEARNING_RATE = [1e-5]\n",
    "SEQ_LENGTH =  [128]\n",
    "EPOCH = [1000]\n",
    "N_HEAD = [2,4]    # Number of attention heads\n",
    "D_MODEL =  [64,128]  # Hidden dimension of the model\n",
    "BATCH_SIZE = [16,32,64]\n",
    "DROPOUT = [0.1*i for i in range(5)]"
   ]
  },
  {
   "cell_type": "code",
   "execution_count": null,
   "metadata": {
    "colab": {
     "base_uri": "https://localhost:8080/",
     "height": 49,
     "referenced_widgets": [
      "fc3da852748743f5b47d9f6d441e7c4f",
      "62ae02005bbd4c3dbd6a06d7638c995b",
      "7f100ae6e1b0431d9a8039a2a3238dd6",
      "f8a8d5e1d90a497baa2deae00428446d",
      "11e6983ab6314dd4b19d73f71b09939b",
      "49b32944b0584896ac3f1a68b5375e6d",
      "81addce944d74d939e1428a9ce6c70e4",
      "a35c4a40764b4e6bb8fdc73b055df236",
      "69ac1b7b2abb4e398f7c38a1be7b6e77",
      "697dee2cfdfc4017bcedbe22c2ee23a2",
      "d2a808d3c2cd49409113c9337c421b8f"
     ]
    },
    "id": "Lj4NNSUw2r49",
    "outputId": "9df1a9bb-31cd-40a2-d9c2-84a36551f33c",
    "tags": []
   },
   "outputs": [],
   "source": [
    "pred2 = nf.predict_insample()"
   ]
  },
  {
   "cell_type": "code",
   "execution_count": null,
   "metadata": {
    "tags": []
   },
   "outputs": [],
   "source": [
    "results = [nf.models[i].results.get_dataframe() for i in range(len(models))]\n",
    "\n",
    "for model in results:\n",
    "    print(model)"
   ]
  },
  {
   "cell_type": "code",
   "execution_count": null,
   "metadata": {
    "colab": {
     "base_uri": "https://localhost:8080/",
     "height": 423
    },
    "id": "5PJ82xAJHSDm",
    "outputId": "505a1670-3d43-4b93-f9ce-916518ec95e6",
    "tags": []
   },
   "outputs": [],
   "source": [
    "pred2"
   ]
  },
  {
   "cell_type": "code",
   "execution_count": null,
   "metadata": {
    "colab": {
     "base_uri": "https://localhost:8080/",
     "height": 423
    },
    "id": "o0vD_zziXzGd",
    "outputId": "915601aa-af4a-4c3c-e163-70fa933c7a75"
   },
   "outputs": [],
   "source": [
    "pred"
   ]
  },
  {
   "cell_type": "code",
   "execution_count": null,
   "metadata": {
    "colab": {
     "base_uri": "https://localhost:8080/",
     "height": 607
    },
    "id": "YXc38_JG58DL",
    "outputId": "ca199c6d-afcf-4594-de0e-8de3ca5fd77b",
    "tags": []
   },
   "outputs": [],
   "source": [
    "y_true_2 = pred2['y'].values\n",
    "y_transformer_2 = pred2['VanillaTransformer'].values\n",
    "y_rnn_2 = pred2['RNN'].values\n",
    "\n",
    "n_series = len(pred2['unique_id'].unique())\n",
    "y_true_2 = y_true_2.reshape(n_series, -1, horizon)\n",
    "y_transformer_2 = y_transformer_2.reshape(n_series, -1, horizon)\n",
    "y_rnn_2 = y_rnn_2.reshape(n_series, -1, horizon)"
   ]
  },
  {
   "cell_type": "code",
   "execution_count": null,
   "metadata": {
    "id": "FIcNGYEP364t"
   },
   "outputs": [],
   "source": [
    "pred2"
   ]
  },
  {
   "cell_type": "code",
   "execution_count": null,
   "metadata": {
    "tags": []
   },
   "outputs": [],
   "source": [
    "results = nf.models[0].results.trials_dataframe()"
   ]
  },
  {
   "cell_type": "code",
   "execution_count": null,
   "metadata": {
    "colab": {
     "base_uri": "https://localhost:8080/",
     "height": 1000
    },
    "id": "SzMyaZMe3oN7",
    "outputId": "b26367c1-d28c-4d5e-e8fc-1614b6661536",
    "tags": []
   },
   "outputs": [],
   "source": [
    "hello2 = pred2.groupby(['ds'])[\n",
    "    [\"y\",\n",
    "     \"AutoRNN\",\n",
    "     \"AutoVanillaTransformer\",\n",
    "     \"AutoAutoformer\"\n",
    "     ]\n",
    "].mean()\n",
    "\n",
    "for i in range(2010,2017):\n",
    "  plt.figure(figsize=(15,3))\n",
    "  plt.plot(hello2.loc[f\"{i}-01-01\":f\"{i+1}-01-01\":], linewidth=0.75)\n",
    "  plt.legend([\"True\", \"RNN\", \"Transformer\", \"Autoformer\"])"
   ]
  },
  {
   "cell_type": "code",
   "execution_count": null,
   "metadata": {
    "id": "W8WMu5jyyrgd"
   },
   "outputs": [],
   "source": [
    "nf.save(path=\"/content/dataset\")"
   ]
  },
  {
   "cell_type": "code",
   "execution_count": null,
   "metadata": {
    "id": "swSErUkMuERR"
   },
   "outputs": [],
   "source": [
    "y_true = pred['y'].values\n",
    "y_transformer = pred['VanillaTransformer'].values\n",
    "y_rnn = pred['RNN'].values\n",
    "\n",
    "n_series = len(pred['unique_id'].unique())\n",
    "y_true = y_true.reshape(n_series, -1, horizon)\n",
    "y_transformer = y_transformer.reshape(n_series, -1, horizon)\n",
    "y_rnn = y_rnn.reshape(n_series, -1, horizon)"
   ]
  },
  {
   "cell_type": "code",
   "execution_count": null,
   "metadata": {
    "id": "zztUZL4RwJ6Z"
   },
   "outputs": [],
   "source": [
    "y_transformer.shape"
   ]
  },
  {
   "cell_type": "code",
   "execution_count": null,
   "metadata": {
    "id": "jLarMIpF6ux9"
   },
   "outputs": [],
   "source": [
    "from neuralforecast.losses.numpy import mae, mse, mape, rmse"
   ]
  },
  {
   "cell_type": "code",
   "execution_count": null,
   "metadata": {
    "id": "iDbcHbhr3jhq"
   },
   "outputs": [],
   "source": [
    "print(\"Train\")\n",
    "print(f\"Transformer: MSE: {mse(y_true_2, y_transformer_2)}, MAE: {mae(y_true_2, y_transformer_2)}, MAPE: {mape(y_true_2, y_transformer_2)}, RMSE: {rmse(y_true_2, y_transformer_2)}\")\n",
    "print(f\"RNN: MSE: {mse(y_true_2, y_rnn_2)}, MAE: {mae(y_true_2, y_rnn_2)}, MAPE: {mape(y_true_2, y_rnn_2)}, RMSE: {rmse(y_true_2, y_rnn_2)}\")\n",
    "print(\"Test\")\n",
    "print(f\"Transformer: MSE: {mse(y_true, y_transformer)}, MAE: {mae(y_true, y_transformer)}, MAPE: {mape(y_true, y_transformer)}, RMSE: {rmse(y_true, y_transformer)}\")\n",
    "print(f\"RNN: MSE: {mse(y_true, y_rnn)}, MAE: {mae(y_true, y_rnn)}, MAPE: {mape(y_true, y_rnn)}, RMSE: {rmse(y_true, y_rnn)}\")"
   ]
  },
  {
   "cell_type": "code",
   "execution_count": null,
   "metadata": {
    "colab": {
     "base_uri": "https://localhost:8080/",
     "height": 458
    },
    "id": "iFfFuKt0zfDL",
    "outputId": "4265dc60-743e-42a2-ce83-bb953a3509e3"
   },
   "outputs": [],
   "source": [
    "hello = pred.groupby(['ds'])[['y','VanillaTransformer','VanillaTransformer1','VanillaTransformer2','VanillaTransformer3','VanillaTransformer4']].mean()\n",
    "for i in range(2018,2020):\n",
    "  plt.figure(figsize=(15,3))\n",
    "  plt.plot(hello.loc[f\"{i}-01-01\":f\"{i+1}-01-01\":], linewidth=0.75)\n",
    "  plt.legend(['True', 'Dropout 0', 'Dropout 0.1', 'Dropout 0.2', 'Dropout 0.3', 'Dropout 0.4'])"
   ]
  },
  {
   "cell_type": "code",
   "execution_count": null,
   "metadata": {
    "id": "cIWbrUJ5v62n"
   },
   "outputs": [],
   "source": [
    "\n",
    "series = ['PSEI']\n",
    "series_idx = 3\n",
    "\n",
    "for w_idx in enumerate([200, 300, 400]):\n",
    "  plt.figure()\n",
    "  plt.plot(y_true[0, w_idx,:].flatten(),label='True',color=\"r\")\n",
    "  plt.plot(y_transformer[0, w_idx,:].flatten(), label='VanillaTransformer', color=\"g\")\n",
    "  plt.plot(y_rnn[0, w_idx,:].flatten(),label='RNN', color=\"b\")\n",
    "  plt.grid()\n",
    "  if idx==2:\n",
    "    plt.set_xlabel('Forecast Horizon', fontsize=17)"
   ]
  },
  {
   "cell_type": "code",
   "execution_count": null,
   "metadata": {
    "id": "QTKyFmUTLk9y"
   },
   "outputs": [],
   "source": [
    "hello = pred.groupby(['cutoff'])[['y','VanillaTransformer','RNN']].mean()"
   ]
  },
  {
   "cell_type": "code",
   "execution_count": null,
   "metadata": {
    "id": "LUQ87p5hWS5I"
   },
   "outputs": [],
   "source": [
    "hello['ds'] = hello.index"
   ]
  },
  {
   "cell_type": "code",
   "execution_count": null,
   "metadata": {
    "id": "pCHJuSn4v6Zr"
   },
   "outputs": [],
   "source": []
  },
  {
   "cell_type": "code",
   "execution_count": null,
   "metadata": {
    "id": "ND-7-tnsKR_J",
    "tags": []
   },
   "outputs": [],
   "source": [
    "plt.figure(figsize = (20,4), linewidth=1)\n",
    "plt.plot(hello['ds'],hello['y'], label='true')\n",
    "plt.plot(hello['ds'],hello['VanillaTransformer'], label='Transformer')\n",
    "plt.plot(hello['ds'],hello['RNN'], label='RNN')\n",
    "plt.legend()"
   ]
  }
 ],
 "metadata": {
  "accelerator": "GPU",
  "colab": {
   "gpuType": "T4",
   "provenance": []
  },
  "kernelspec": {
   "display_name": "Python 3",
   "language": "python",
   "name": "python3"
  },
  "language_info": {
   "codemirror_mode": {
    "name": "ipython",
    "version": 3
   },
   "file_extension": ".py",
   "mimetype": "text/x-python",
   "name": "python",
   "nbconvert_exporter": "python",
   "pygments_lexer": "ipython3",
   "version": "3.10.13"
  },
  "widgets": {
   "application/vnd.jupyter.widget-state+json": {
    "11e6983ab6314dd4b19d73f71b09939b": {
     "model_module": "@jupyter-widgets/base",
     "model_module_version": "1.2.0",
     "model_name": "LayoutModel",
     "state": {
      "_model_module": "@jupyter-widgets/base",
      "_model_module_version": "1.2.0",
      "_model_name": "LayoutModel",
      "_view_count": null,
      "_view_module": "@jupyter-widgets/base",
      "_view_module_version": "1.2.0",
      "_view_name": "LayoutView",
      "align_content": null,
      "align_items": null,
      "align_self": null,
      "border": null,
      "bottom": null,
      "display": "inline-flex",
      "flex": null,
      "flex_flow": "row wrap",
      "grid_area": null,
      "grid_auto_columns": null,
      "grid_auto_flow": null,
      "grid_auto_rows": null,
      "grid_column": null,
      "grid_gap": null,
      "grid_row": null,
      "grid_template_areas": null,
      "grid_template_columns": null,
      "grid_template_rows": null,
      "height": null,
      "justify_content": null,
      "justify_items": null,
      "left": null,
      "margin": null,
      "max_height": null,
      "max_width": null,
      "min_height": null,
      "min_width": null,
      "object_fit": null,
      "object_position": null,
      "order": null,
      "overflow": null,
      "overflow_x": null,
      "overflow_y": null,
      "padding": null,
      "right": null,
      "top": null,
      "visibility": null,
      "width": "100%"
     }
    },
    "33a2d42468714c0998d3b0a63dec123a": {
     "model_module": "@jupyter-widgets/base",
     "model_module_version": "1.2.0",
     "model_name": "LayoutModel",
     "state": {
      "_model_module": "@jupyter-widgets/base",
      "_model_module_version": "1.2.0",
      "_model_name": "LayoutModel",
      "_view_count": null,
      "_view_module": "@jupyter-widgets/base",
      "_view_module_version": "1.2.0",
      "_view_name": "LayoutView",
      "align_content": null,
      "align_items": null,
      "align_self": null,
      "border": null,
      "bottom": null,
      "display": null,
      "flex": null,
      "flex_flow": null,
      "grid_area": null,
      "grid_auto_columns": null,
      "grid_auto_flow": null,
      "grid_auto_rows": null,
      "grid_column": null,
      "grid_gap": null,
      "grid_row": null,
      "grid_template_areas": null,
      "grid_template_columns": null,
      "grid_template_rows": null,
      "height": null,
      "justify_content": null,
      "justify_items": null,
      "left": null,
      "margin": null,
      "max_height": null,
      "max_width": null,
      "min_height": null,
      "min_width": null,
      "object_fit": null,
      "object_position": null,
      "order": null,
      "overflow": null,
      "overflow_x": null,
      "overflow_y": null,
      "padding": null,
      "right": null,
      "top": null,
      "visibility": null,
      "width": null
     }
    },
    "49b32944b0584896ac3f1a68b5375e6d": {
     "model_module": "@jupyter-widgets/base",
     "model_module_version": "1.2.0",
     "model_name": "LayoutModel",
     "state": {
      "_model_module": "@jupyter-widgets/base",
      "_model_module_version": "1.2.0",
      "_model_name": "LayoutModel",
      "_view_count": null,
      "_view_module": "@jupyter-widgets/base",
      "_view_module_version": "1.2.0",
      "_view_name": "LayoutView",
      "align_content": null,
      "align_items": null,
      "align_self": null,
      "border": null,
      "bottom": null,
      "display": null,
      "flex": null,
      "flex_flow": null,
      "grid_area": null,
      "grid_auto_columns": null,
      "grid_auto_flow": null,
      "grid_auto_rows": null,
      "grid_column": null,
      "grid_gap": null,
      "grid_row": null,
      "grid_template_areas": null,
      "grid_template_columns": null,
      "grid_template_rows": null,
      "height": null,
      "justify_content": null,
      "justify_items": null,
      "left": null,
      "margin": null,
      "max_height": null,
      "max_width": null,
      "min_height": null,
      "min_width": null,
      "object_fit": null,
      "object_position": null,
      "order": null,
      "overflow": null,
      "overflow_x": null,
      "overflow_y": null,
      "padding": null,
      "right": null,
      "top": null,
      "visibility": null,
      "width": null
     }
    },
    "4aa6091d14fe48af8b090ee16666b74a": {
     "model_module": "@jupyter-widgets/base",
     "model_module_version": "1.2.0",
     "model_name": "LayoutModel",
     "state": {
      "_model_module": "@jupyter-widgets/base",
      "_model_module_version": "1.2.0",
      "_model_name": "LayoutModel",
      "_view_count": null,
      "_view_module": "@jupyter-widgets/base",
      "_view_module_version": "1.2.0",
      "_view_name": "LayoutView",
      "align_content": null,
      "align_items": null,
      "align_self": null,
      "border": null,
      "bottom": null,
      "display": null,
      "flex": "2",
      "flex_flow": null,
      "grid_area": null,
      "grid_auto_columns": null,
      "grid_auto_flow": null,
      "grid_auto_rows": null,
      "grid_column": null,
      "grid_gap": null,
      "grid_row": null,
      "grid_template_areas": null,
      "grid_template_columns": null,
      "grid_template_rows": null,
      "height": null,
      "justify_content": null,
      "justify_items": null,
      "left": null,
      "margin": null,
      "max_height": null,
      "max_width": null,
      "min_height": null,
      "min_width": null,
      "object_fit": null,
      "object_position": null,
      "order": null,
      "overflow": null,
      "overflow_x": null,
      "overflow_y": null,
      "padding": null,
      "right": null,
      "top": null,
      "visibility": null,
      "width": null
     }
    },
    "5e2dd7aac6d842dcb987d5417b1b5487": {
     "model_module": "@jupyter-widgets/controls",
     "model_module_version": "1.5.0",
     "model_name": "HTMLModel",
     "state": {
      "_dom_classes": [],
      "_model_module": "@jupyter-widgets/controls",
      "_model_module_version": "1.5.0",
      "_model_name": "HTMLModel",
      "_view_count": null,
      "_view_module": "@jupyter-widgets/controls",
      "_view_module_version": "1.5.0",
      "_view_name": "HTMLView",
      "description": "",
      "description_tooltip": null,
      "layout": "IPY_MODEL_ac2eb6bedd8f4bff807a58175bad5e0b",
      "placeholder": "​",
      "style": "IPY_MODEL_f10cd5d8f6ca4266bf08eb05b3c5940a",
      "value": "Sanity Checking DataLoader 0:   0%"
     }
    },
    "62ae02005bbd4c3dbd6a06d7638c995b": {
     "model_module": "@jupyter-widgets/controls",
     "model_module_version": "1.5.0",
     "model_name": "HTMLModel",
     "state": {
      "_dom_classes": [],
      "_model_module": "@jupyter-widgets/controls",
      "_model_module_version": "1.5.0",
      "_model_name": "HTMLModel",
      "_view_count": null,
      "_view_module": "@jupyter-widgets/controls",
      "_view_module_version": "1.5.0",
      "_view_name": "HTMLView",
      "description": "",
      "description_tooltip": null,
      "layout": "IPY_MODEL_49b32944b0584896ac3f1a68b5375e6d",
      "placeholder": "​",
      "style": "IPY_MODEL_81addce944d74d939e1428a9ce6c70e4",
      "value": "Predicting DataLoader 0: 100%"
     }
    },
    "659fef089ee247e599e6fcdde8eddfaf": {
     "model_module": "@jupyter-widgets/controls",
     "model_module_version": "1.5.0",
     "model_name": "HTMLModel",
     "state": {
      "_dom_classes": [],
      "_model_module": "@jupyter-widgets/controls",
      "_model_module_version": "1.5.0",
      "_model_name": "HTMLModel",
      "_view_count": null,
      "_view_module": "@jupyter-widgets/controls",
      "_view_module_version": "1.5.0",
      "_view_name": "HTMLView",
      "description": "",
      "description_tooltip": null,
      "layout": "IPY_MODEL_33a2d42468714c0998d3b0a63dec123a",
      "placeholder": "​",
      "style": "IPY_MODEL_b64305d4a1d84703b856327b96f83084",
      "value": " 0/1 [00:00&lt;?, ?it/s]"
     }
    },
    "697dee2cfdfc4017bcedbe22c2ee23a2": {
     "model_module": "@jupyter-widgets/base",
     "model_module_version": "1.2.0",
     "model_name": "LayoutModel",
     "state": {
      "_model_module": "@jupyter-widgets/base",
      "_model_module_version": "1.2.0",
      "_model_name": "LayoutModel",
      "_view_count": null,
      "_view_module": "@jupyter-widgets/base",
      "_view_module_version": "1.2.0",
      "_view_name": "LayoutView",
      "align_content": null,
      "align_items": null,
      "align_self": null,
      "border": null,
      "bottom": null,
      "display": null,
      "flex": null,
      "flex_flow": null,
      "grid_area": null,
      "grid_auto_columns": null,
      "grid_auto_flow": null,
      "grid_auto_rows": null,
      "grid_column": null,
      "grid_gap": null,
      "grid_row": null,
      "grid_template_areas": null,
      "grid_template_columns": null,
      "grid_template_rows": null,
      "height": null,
      "justify_content": null,
      "justify_items": null,
      "left": null,
      "margin": null,
      "max_height": null,
      "max_width": null,
      "min_height": null,
      "min_width": null,
      "object_fit": null,
      "object_position": null,
      "order": null,
      "overflow": null,
      "overflow_x": null,
      "overflow_y": null,
      "padding": null,
      "right": null,
      "top": null,
      "visibility": null,
      "width": null
     }
    },
    "69ac1b7b2abb4e398f7c38a1be7b6e77": {
     "model_module": "@jupyter-widgets/controls",
     "model_module_version": "1.5.0",
     "model_name": "ProgressStyleModel",
     "state": {
      "_model_module": "@jupyter-widgets/controls",
      "_model_module_version": "1.5.0",
      "_model_name": "ProgressStyleModel",
      "_view_count": null,
      "_view_module": "@jupyter-widgets/base",
      "_view_module_version": "1.2.0",
      "_view_name": "StyleView",
      "bar_color": null,
      "description_width": ""
     }
    },
    "7f100ae6e1b0431d9a8039a2a3238dd6": {
     "model_module": "@jupyter-widgets/controls",
     "model_module_version": "1.5.0",
     "model_name": "FloatProgressModel",
     "state": {
      "_dom_classes": [],
      "_model_module": "@jupyter-widgets/controls",
      "_model_module_version": "1.5.0",
      "_model_name": "FloatProgressModel",
      "_view_count": null,
      "_view_module": "@jupyter-widgets/controls",
      "_view_module_version": "1.5.0",
      "_view_name": "ProgressView",
      "bar_style": "success",
      "description": "",
      "description_tooltip": null,
      "layout": "IPY_MODEL_a35c4a40764b4e6bb8fdc73b055df236",
      "max": 1,
      "min": 0,
      "orientation": "horizontal",
      "style": "IPY_MODEL_69ac1b7b2abb4e398f7c38a1be7b6e77",
      "value": 1
     }
    },
    "81addce944d74d939e1428a9ce6c70e4": {
     "model_module": "@jupyter-widgets/controls",
     "model_module_version": "1.5.0",
     "model_name": "DescriptionStyleModel",
     "state": {
      "_model_module": "@jupyter-widgets/controls",
      "_model_module_version": "1.5.0",
      "_model_name": "DescriptionStyleModel",
      "_view_count": null,
      "_view_module": "@jupyter-widgets/base",
      "_view_module_version": "1.2.0",
      "_view_name": "StyleView",
      "description_width": ""
     }
    },
    "a35c4a40764b4e6bb8fdc73b055df236": {
     "model_module": "@jupyter-widgets/base",
     "model_module_version": "1.2.0",
     "model_name": "LayoutModel",
     "state": {
      "_model_module": "@jupyter-widgets/base",
      "_model_module_version": "1.2.0",
      "_model_name": "LayoutModel",
      "_view_count": null,
      "_view_module": "@jupyter-widgets/base",
      "_view_module_version": "1.2.0",
      "_view_name": "LayoutView",
      "align_content": null,
      "align_items": null,
      "align_self": null,
      "border": null,
      "bottom": null,
      "display": null,
      "flex": "2",
      "flex_flow": null,
      "grid_area": null,
      "grid_auto_columns": null,
      "grid_auto_flow": null,
      "grid_auto_rows": null,
      "grid_column": null,
      "grid_gap": null,
      "grid_row": null,
      "grid_template_areas": null,
      "grid_template_columns": null,
      "grid_template_rows": null,
      "height": null,
      "justify_content": null,
      "justify_items": null,
      "left": null,
      "margin": null,
      "max_height": null,
      "max_width": null,
      "min_height": null,
      "min_width": null,
      "object_fit": null,
      "object_position": null,
      "order": null,
      "overflow": null,
      "overflow_x": null,
      "overflow_y": null,
      "padding": null,
      "right": null,
      "top": null,
      "visibility": null,
      "width": null
     }
    },
    "ac2eb6bedd8f4bff807a58175bad5e0b": {
     "model_module": "@jupyter-widgets/base",
     "model_module_version": "1.2.0",
     "model_name": "LayoutModel",
     "state": {
      "_model_module": "@jupyter-widgets/base",
      "_model_module_version": "1.2.0",
      "_model_name": "LayoutModel",
      "_view_count": null,
      "_view_module": "@jupyter-widgets/base",
      "_view_module_version": "1.2.0",
      "_view_name": "LayoutView",
      "align_content": null,
      "align_items": null,
      "align_self": null,
      "border": null,
      "bottom": null,
      "display": null,
      "flex": null,
      "flex_flow": null,
      "grid_area": null,
      "grid_auto_columns": null,
      "grid_auto_flow": null,
      "grid_auto_rows": null,
      "grid_column": null,
      "grid_gap": null,
      "grid_row": null,
      "grid_template_areas": null,
      "grid_template_columns": null,
      "grid_template_rows": null,
      "height": null,
      "justify_content": null,
      "justify_items": null,
      "left": null,
      "margin": null,
      "max_height": null,
      "max_width": null,
      "min_height": null,
      "min_width": null,
      "object_fit": null,
      "object_position": null,
      "order": null,
      "overflow": null,
      "overflow_x": null,
      "overflow_y": null,
      "padding": null,
      "right": null,
      "top": null,
      "visibility": null,
      "width": null
     }
    },
    "b11e473f57d044b48760707574611afb": {
     "model_module": "@jupyter-widgets/controls",
     "model_module_version": "1.5.0",
     "model_name": "HBoxModel",
     "state": {
      "_dom_classes": [],
      "_model_module": "@jupyter-widgets/controls",
      "_model_module_version": "1.5.0",
      "_model_name": "HBoxModel",
      "_view_count": null,
      "_view_module": "@jupyter-widgets/controls",
      "_view_module_version": "1.5.0",
      "_view_name": "HBoxView",
      "box_style": "",
      "children": [
       "IPY_MODEL_5e2dd7aac6d842dcb987d5417b1b5487",
       "IPY_MODEL_c388f95c4c4d4b9ab5cdf1da5cff808a",
       "IPY_MODEL_659fef089ee247e599e6fcdde8eddfaf"
      ],
      "layout": "IPY_MODEL_cd47a1711d0047e8a406b464b3a4ad8f"
     }
    },
    "b64305d4a1d84703b856327b96f83084": {
     "model_module": "@jupyter-widgets/controls",
     "model_module_version": "1.5.0",
     "model_name": "DescriptionStyleModel",
     "state": {
      "_model_module": "@jupyter-widgets/controls",
      "_model_module_version": "1.5.0",
      "_model_name": "DescriptionStyleModel",
      "_view_count": null,
      "_view_module": "@jupyter-widgets/base",
      "_view_module_version": "1.2.0",
      "_view_name": "StyleView",
      "description_width": ""
     }
    },
    "bac194cb12924ecb85d52b82c27b315b": {
     "model_module": "@jupyter-widgets/controls",
     "model_module_version": "1.5.0",
     "model_name": "ProgressStyleModel",
     "state": {
      "_model_module": "@jupyter-widgets/controls",
      "_model_module_version": "1.5.0",
      "_model_name": "ProgressStyleModel",
      "_view_count": null,
      "_view_module": "@jupyter-widgets/base",
      "_view_module_version": "1.2.0",
      "_view_name": "StyleView",
      "bar_color": null,
      "description_width": ""
     }
    },
    "c388f95c4c4d4b9ab5cdf1da5cff808a": {
     "model_module": "@jupyter-widgets/controls",
     "model_module_version": "1.5.0",
     "model_name": "FloatProgressModel",
     "state": {
      "_dom_classes": [],
      "_model_module": "@jupyter-widgets/controls",
      "_model_module_version": "1.5.0",
      "_model_name": "FloatProgressModel",
      "_view_count": null,
      "_view_module": "@jupyter-widgets/controls",
      "_view_module_version": "1.5.0",
      "_view_name": "ProgressView",
      "bar_style": "",
      "description": "",
      "description_tooltip": null,
      "layout": "IPY_MODEL_4aa6091d14fe48af8b090ee16666b74a",
      "max": 1,
      "min": 0,
      "orientation": "horizontal",
      "style": "IPY_MODEL_bac194cb12924ecb85d52b82c27b315b",
      "value": 0
     }
    },
    "cd47a1711d0047e8a406b464b3a4ad8f": {
     "model_module": "@jupyter-widgets/base",
     "model_module_version": "1.2.0",
     "model_name": "LayoutModel",
     "state": {
      "_model_module": "@jupyter-widgets/base",
      "_model_module_version": "1.2.0",
      "_model_name": "LayoutModel",
      "_view_count": null,
      "_view_module": "@jupyter-widgets/base",
      "_view_module_version": "1.2.0",
      "_view_name": "LayoutView",
      "align_content": null,
      "align_items": null,
      "align_self": null,
      "border": null,
      "bottom": null,
      "display": "inline-flex",
      "flex": null,
      "flex_flow": "row wrap",
      "grid_area": null,
      "grid_auto_columns": null,
      "grid_auto_flow": null,
      "grid_auto_rows": null,
      "grid_column": null,
      "grid_gap": null,
      "grid_row": null,
      "grid_template_areas": null,
      "grid_template_columns": null,
      "grid_template_rows": null,
      "height": null,
      "justify_content": null,
      "justify_items": null,
      "left": null,
      "margin": null,
      "max_height": null,
      "max_width": null,
      "min_height": null,
      "min_width": null,
      "object_fit": null,
      "object_position": null,
      "order": null,
      "overflow": null,
      "overflow_x": null,
      "overflow_y": null,
      "padding": null,
      "right": null,
      "top": null,
      "visibility": null,
      "width": "100%"
     }
    },
    "d2a808d3c2cd49409113c9337c421b8f": {
     "model_module": "@jupyter-widgets/controls",
     "model_module_version": "1.5.0",
     "model_name": "DescriptionStyleModel",
     "state": {
      "_model_module": "@jupyter-widgets/controls",
      "_model_module_version": "1.5.0",
      "_model_name": "DescriptionStyleModel",
      "_view_count": null,
      "_view_module": "@jupyter-widgets/base",
      "_view_module_version": "1.2.0",
      "_view_name": "StyleView",
      "description_width": ""
     }
    },
    "f10cd5d8f6ca4266bf08eb05b3c5940a": {
     "model_module": "@jupyter-widgets/controls",
     "model_module_version": "1.5.0",
     "model_name": "DescriptionStyleModel",
     "state": {
      "_model_module": "@jupyter-widgets/controls",
      "_model_module_version": "1.5.0",
      "_model_name": "DescriptionStyleModel",
      "_view_count": null,
      "_view_module": "@jupyter-widgets/base",
      "_view_module_version": "1.2.0",
      "_view_name": "StyleView",
      "description_width": ""
     }
    },
    "f8a8d5e1d90a497baa2deae00428446d": {
     "model_module": "@jupyter-widgets/controls",
     "model_module_version": "1.5.0",
     "model_name": "HTMLModel",
     "state": {
      "_dom_classes": [],
      "_model_module": "@jupyter-widgets/controls",
      "_model_module_version": "1.5.0",
      "_model_name": "HTMLModel",
      "_view_count": null,
      "_view_module": "@jupyter-widgets/controls",
      "_view_module_version": "1.5.0",
      "_view_name": "HTMLView",
      "description": "",
      "description_tooltip": null,
      "layout": "IPY_MODEL_697dee2cfdfc4017bcedbe22c2ee23a2",
      "placeholder": "​",
      "style": "IPY_MODEL_d2a808d3c2cd49409113c9337c421b8f",
      "value": " 1/1 [00:17&lt;00:00,  0.06it/s]"
     }
    },
    "fc3da852748743f5b47d9f6d441e7c4f": {
     "model_module": "@jupyter-widgets/controls",
     "model_module_version": "1.5.0",
     "model_name": "HBoxModel",
     "state": {
      "_dom_classes": [],
      "_model_module": "@jupyter-widgets/controls",
      "_model_module_version": "1.5.0",
      "_model_name": "HBoxModel",
      "_view_count": null,
      "_view_module": "@jupyter-widgets/controls",
      "_view_module_version": "1.5.0",
      "_view_name": "HBoxView",
      "box_style": "",
      "children": [
       "IPY_MODEL_62ae02005bbd4c3dbd6a06d7638c995b",
       "IPY_MODEL_7f100ae6e1b0431d9a8039a2a3238dd6",
       "IPY_MODEL_f8a8d5e1d90a497baa2deae00428446d"
      ],
      "layout": "IPY_MODEL_11e6983ab6314dd4b19d73f71b09939b"
     }
    }
   }
  }
 },
 "nbformat": 4,
 "nbformat_minor": 4
}
